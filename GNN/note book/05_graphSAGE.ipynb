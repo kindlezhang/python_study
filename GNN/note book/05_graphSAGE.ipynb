{
 "cells": [
  {
   "cell_type": "markdown",
   "id": "52c3459d",
   "metadata": {},
   "source": [
    "# graphSAGE\n",
    "\n",
    "## Basic Knowledge\n",
    "\n",
    "提出归纳式的graph embedding方法，之前都是所有的节点都在图中，对于没有看过的节点是不能处理的，这种叫做直推式方法。GraphSAGE这种归纳式的方法，可以对没见过的节点生成embedding.\n",
    "\n",
    "GraphSAGE不仅局限于构建embedding，也通过聚合周围邻居节点的特征。\n",
    "归纳式：节点的局部信息和图的全局信息  \n",
    "\n",
    "## minibatch\n",
    "\n",
    "##  graphSAGE embedding"
   ]
  }
 ],
 "metadata": {
  "language_info": {
   "name": "python"
  }
 },
 "nbformat": 4,
 "nbformat_minor": 5
}
