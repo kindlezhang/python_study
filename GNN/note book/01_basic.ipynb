{
 "cells": [
  {
   "cell_type": "markdown",
   "id": "30186959",
   "metadata": {},
   "source": [
    "# "
   ]
  },
  {
   "cell_type": "code",
   "execution_count": 22,
   "id": "2f60b06a",
   "metadata": {},
   "outputs": [],
   "source": [
    "import numpy as np\n",
    "import pandas as pd\n",
    "import networkx as nx\n",
    "import scipy as sp"
   ]
  },
  {
   "cell_type": "code",
   "execution_count": 25,
   "id": "78e92026",
   "metadata": {},
   "outputs": [
    {
     "name": "stdout",
     "output_type": "stream",
     "text": [
      "     1    2    4    5    3\n",
      "1  0.0  1.0  1.0  1.0  0.0\n",
      "2  1.0  0.0  0.0  0.0  1.0\n",
      "4  1.0  0.0  0.0  1.0  0.0\n",
      "5  1.0  0.0  1.0  0.0  1.0\n",
      "3  0.0  1.0  0.0  1.0  0.0\n",
      "[(1, 3), (2, 2), (4, 2), (5, 3), (3, 2)]\n",
      "[{1, 2, 3, 4, 5}]\n"
     ]
    }
   ],
   "source": [
    "edges = pd.DataFrame()\n",
    "edges['sources'] = [1,1,1,2,2,3,3,4,4,5,5,5]\n",
    "edges['targets'] = [2,4,5,3,1,2,5,1,5,1,3,4]\n",
    "edges['weights'] = [1,1,1,1,1,1,1,1,1,1,1,1]\n",
    "\n",
    "# vertex, direction and weight define a graph\n",
    "\n",
    "# undirected graph\n",
    "G = nx.from_pandas_edgelist(edges,source='sources',target='targets',edge_attr='weights')\n",
    "\n",
    "# directed graph\n",
    "# G = nx.from_pandas_edgelist(edges,source='sources',target='targets',edge_attr='weights',create_using=nx.DiGraph)\n",
    "\n",
    "# Adjacency matrix\n",
    "adj_df = nx.to_pandas_adjacency(G)\n",
    "print(adj_df)\n",
    "\n",
    "# degree\n",
    "# undirected graph degree is the sum of in-degree and out-degree\n",
    "# directed graph has in-degree and out-degree\n",
    "print(nx.degree(G))\n",
    "\n",
    "# subgraph\n",
    "\n",
    "# connected graph and unconnected graph\n",
    "\n",
    "# connected components\n",
    "\n",
    "# undirected graph connected components\n",
    "# means the biggest connected subgraph  \n",
    "# connected graph has only one connected component\n",
    "print(list(nx.connected_components(G)))\n",
    "\n",
    "# directed graph connected components\n",
    "# strong: each two nodes are reachable from each other\n",
    "# weak: each two nodes are reachable from each other if we ignore the direction of edges"
   ]
  },
  {
   "cell_type": "code",
   "execution_count": 29,
   "id": "7458db26",
   "metadata": {},
   "outputs": [
    {
     "name": "stdout",
     "output_type": "stream",
     "text": [
      "2\n",
      "{1: 0.75, 2: 0.5, 4: 0.5, 5: 0.75, 3: 0.5}\n",
      "特征值： [ 2.48119430e+00 -2.00000000e+00 -1.17008649e+00 -1.92682876e-16\n",
      "  6.88892183e-01]\n",
      "特征向量： [[-5.29899099e-01 -5.00000000e-01 -4.32486630e-01 -5.00000000e-01\n",
      "  -1.79338395e-01]\n",
      " [-3.57751240e-01  5.00000000e-01  1.99294651e-01 -5.00000000e-01\n",
      "   5.76450945e-01]\n",
      " [-4.27132287e-01 -6.95843372e-16  7.39238740e-01 -1.97119045e-16\n",
      "  -5.20657368e-01]\n",
      " [-5.29899099e-01  5.00000000e-01 -4.32486630e-01  5.00000000e-01\n",
      "  -1.79338395e-01]\n",
      " [-3.57751240e-01 -5.00000000e-01  1.99294651e-01  5.00000000e-01\n",
      "   5.76450945e-01]]\n",
      "{1: 0.5298988890761731, 2: 0.35775191431708964, 4: 0.4271316779596084, 5: 0.5298988890761731, 3: 0.35775191431708964}\n"
     ]
    }
   ],
   "source": [
    "# diameter\n",
    "# the longest shortest path between any two nodes in a connected graph\n",
    "print(nx.diameter(G))\n",
    "\n",
    "# 度中心性 (Degree Centrality)\n",
    "# Normalized by N-1 (N is the number of nodes in the graph)\n",
    "print(nx.degree_centrality(G))\n",
    "\n",
    "# 特征向量中心性 (Eigenvector Centrality)\n",
    "# adjacency matrix's eigenvector corresponding to the largest eigenvalue\n",
    "# Ax = λx 相当于对x做了一个线性变换，λ表示x被拉伸的倍数, x表示变换的方向\n",
    "matrix = adj_df.values\n",
    "eigvals, eigvecs = np.linalg.eig(matrix)\n",
    "print(\"特征值：\", eigvals)\n",
    "print(\"特征向量：\", eigvecs)\n",
    "\n",
    "print(nx.eigenvector_centrality(G))"
   ]
  },
  {
   "cell_type": "code",
   "execution_count": 30,
   "id": "8078cf1a",
   "metadata": {},
   "outputs": [
    {
     "name": "stdout",
     "output_type": "stream",
     "text": [
      "{1: 0.25, 2: 0.08333333333333333, 4: 0.0, 5: 0.25, 3: 0.08333333333333333}\n",
      "{1: 0.8, 2: 0.6666666666666666, 4: 0.6666666666666666, 5: 0.8, 3: 0.6666666666666666}\n",
      "{1: 0.24369622576678, 2: 0.17225629712058643, 4: 0.16809495422526696, 5: 0.24369622576678, 3: 0.1722562971205864}\n",
      "({1: 0.24059715204600782, 2: 0.16243456471667697, 4: 0.19393656647463042, 5: 0.24059715204600782, 3: 0.16243456471667694}, {1: 0.2405971520460078, 2: 0.16243456471667694, 4: 0.19393656647463048, 5: 0.2405971520460078, 3: 0.162434564716677})\n"
     ]
    }
   ],
   "source": [
    "# betweeness\n",
    "# the proportion of shortest paths that pass through a node\n",
    "print(nx.betweenness_centrality(G))\n",
    "\n",
    "# closeness\n",
    "# the reciprocal of the sum of the shortest path distances from a node to all other nodes\n",
    "print(nx.closeness_centrality(G))\n",
    "\n",
    "# pagerank\n",
    "# the probability of arriving at each node by randomly following edges\n",
    "print(nx.pagerank(G))\n",
    "\n",
    "# HITS\n",
    "# Hubs and Authorities\n",
    "# Hubs point to many Authorities, and Authorities are pointed to by many Hubs\n",
    "print(nx.hits(G))\n"
   ]
  }
 ],
 "metadata": {
  "kernelspec": {
   "display_name": "pytorch",
   "language": "python",
   "name": "python3"
  },
  "language_info": {
   "codemirror_mode": {
    "name": "ipython",
    "version": 3
   },
   "file_extension": ".py",
   "mimetype": "text/x-python",
   "name": "python",
   "nbconvert_exporter": "python",
   "pygments_lexer": "ipython3",
   "version": "3.12.7"
  }
 },
 "nbformat": 4,
 "nbformat_minor": 5
}
