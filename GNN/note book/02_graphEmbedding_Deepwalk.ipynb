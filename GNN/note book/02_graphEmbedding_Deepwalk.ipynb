{
 "cells": [
  {
   "cell_type": "markdown",
   "id": "5f0b6f5d",
   "metadata": {},
   "source": [
    "# Deepwalk\n",
    "\n",
    "source code: https://github.com/shenweichen/GraphEmbedding"
   ]
  },
  {
   "cell_type": "code",
   "execution_count": 11,
   "id": "3694fde4",
   "metadata": {},
   "outputs": [],
   "source": [
    "import sys\n",
    "sys.path.append('/Users/kindle/Desktop/file/project/python_study/GNN')\n",
    "\n",
    "\n",
    "import numpy as np\n",
    "\n",
    "from ge.classify import read_node_label, Classifier\n",
    "from ge import DeepWalk\n",
    "from sklearn.linear_model import LogisticRegression\n",
    "\n",
    "import matplotlib.pyplot as plt\n",
    "import networkx as nx\n",
    "from sklearn.manifold import TSNE\n",
    "\n"
   ]
  },
  {
   "cell_type": "code",
   "execution_count": null,
   "id": "6fa11428",
   "metadata": {},
   "outputs": [],
   "source": []
  },
  {
   "cell_type": "markdown",
   "id": "1dfc041e",
   "metadata": {},
   "source": []
  }
 ],
 "metadata": {
  "kernelspec": {
   "display_name": "pytorch",
   "language": "python",
   "name": "python3"
  },
  "language_info": {
   "codemirror_mode": {
    "name": "ipython",
    "version": 3
   },
   "file_extension": ".py",
   "mimetype": "text/x-python",
   "name": "python",
   "nbconvert_exporter": "python",
   "pygments_lexer": "ipython3",
   "version": "3.12.9"
  }
 },
 "nbformat": 4,
 "nbformat_minor": 5
}
