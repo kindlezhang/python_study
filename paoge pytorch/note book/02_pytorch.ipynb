{
 "cells": [
  {
   "cell_type": "markdown",
   "id": "efa15ac9",
   "metadata": {},
   "source": [
    "# Pytorch\n",
    "\n",
    "## python\n",
    "\n",
    "python\n",
    "\n",
    "PyCharm是一个python的IDE\n",
    "\n",
    "Anaconda是一个开源的Python和R的发行版本\n",
    "\n",
    "PyTorch，TensorFlow + Keras是深度学习框架\n",
    "\n",
    "CUDA\n",
    "\n",
    "<img src=\"../graph/10.png\" width=\"500\" height=\"250\" />\n",
    "\n",
    "cuDNN: GPU加速库\n",
    "\n",
    "### 相关编程环境\n",
    "\n",
    "python\n",
    "pytorch\n",
    "cudatookit\n",
    "Cudnn\n",
    "torchsummary\n",
    "numpy\n",
    "pandas\n",
    "matplotlib\n",
    "sklearn\n",
    "\n",
    "### pycharm安装\n",
    "\n",
    "### anaconda安装与虚拟环境的创建\n"
   ]
  },
  {
   "cell_type": "code",
   "execution_count": 4,
   "id": "0d794539",
   "metadata": {},
   "outputs": [
    {
     "ename": "SyntaxError",
     "evalue": "invalid syntax (2185863399.py, line 2)",
     "output_type": "error",
     "traceback": [
      "\u001b[0;36m  Cell \u001b[0;32mIn[4], line 2\u001b[0;36m\u001b[0m\n\u001b[0;31m    conda env list\u001b[0m\n\u001b[0m          ^\u001b[0m\n\u001b[0;31mSyntaxError\u001b[0m\u001b[0;31m:\u001b[0m invalid syntax\n"
     ]
    }
   ],
   "source": [
    "### 查看虚拟环境\n",
    "python -V\n",
    "conda env list\n",
    "### 创建虚拟环境\n",
    "conda create -n <env_name> python=3.x\n",
    "### 激活虚拟环境\n",
    "conda activate <env_name>"
   ]
  },
  {
   "cell_type": "markdown",
   "id": "da22a8db",
   "metadata": {},
   "source": [
    "\n",
    "### 环境安装勘误\n",
    "\n",
    "### pytorch安装\n",
    "\n",
    "pip3 install torch torchvision （确保在pytorch的虚拟环境下）\n"
   ]
  },
  {
   "cell_type": "code",
   "execution_count": 27,
   "id": "f9efc9ff",
   "metadata": {},
   "outputs": [
    {
     "name": "stdout",
     "output_type": "stream",
     "text": [
      "torch version: 2.8.0\n",
      "MPS available: True\n",
      "device: mps\n",
      "tensor([[0.7414, 0.0301, 0.2722],\n",
      "        [0.1644, 0.6634, 0.6398],\n",
      "        [0.4616, 0.1160, 0.1347]], device='mps:0')\n"
     ]
    }
   ],
   "source": [
    "### 验证安装\n",
    "import torch\n",
    "import numpy\n",
    "import pandas\n",
    "\n",
    "print(f\"torch version: {torch.__version__}\")\n",
    "\n",
    "# flag = torch.cuda.is_available()\n",
    "# print(f\"CUDA available: {flag}\")\n",
    "# ngpu = 1\n",
    "# # decide which device we want to run on\n",
    "# device = torch.device(\"cuda:0\" if (torch.cuda.is_available() and ngpu > 0) else \"cpu\")\n",
    "# print(f\"device: {device}\")\n",
    "# print(torch.cuda.get_device_name(0))\n",
    "# print(torch.rand(3,3).cuda())\n",
    "\n",
    "# ### check cuda version\n",
    "# cuda_version = torch.version.cuda\n",
    "# print(f\"CUDA version: {cuda_version}\")\n",
    "\n",
    "# ### check CuNN version\n",
    "# cudnn_version = torch.backends.cudnn.version()\n",
    "# print(f\"CuDNN version: {cudnn_version}\")\n",
    "\n",
    "flag = torch.backends.mps.is_available()\n",
    "print(f\"MPS available: {flag}\")\n",
    "\n",
    "if torch.backends.mps.is_available():\n",
    "    device = torch.device(\"mps\")\n",
    "else:\n",
    "    device = torch.device(\"cpu\")\n",
    "print(f\"device: {device}\")\n",
    "\n",
    "x = torch.rand(3,3).to(device)\n",
    "print(x)\n",
    "\n",
    "# \"mps:0\" 就是 Apple 系统的第一个 Metal GPU\n",
    "\n",
    "\n"
   ]
  }
 ],
 "metadata": {
  "kernelspec": {
   "display_name": "pytorch",
   "language": "python",
   "name": "python3"
  },
  "language_info": {
   "codemirror_mode": {
    "name": "ipython",
    "version": 3
   },
   "file_extension": ".py",
   "mimetype": "text/x-python",
   "name": "python",
   "nbconvert_exporter": "python",
   "pygments_lexer": "ipython3",
   "version": "3.12.7"
  }
 },
 "nbformat": 4,
 "nbformat_minor": 5
}
