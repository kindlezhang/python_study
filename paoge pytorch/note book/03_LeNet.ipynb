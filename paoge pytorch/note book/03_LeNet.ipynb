{
 "cells": [
  {
   "cell_type": "markdown",
   "id": "f02fdde5",
   "metadata": {},
   "source": [
    "# LeNet\n",
    "\n",
    "## LwNet-5\n",
    "\n",
    "发明者：Yann LeCun\n",
    "提出时间：1989\n",
    "目的：手写数字识别\n",
    "\n",
    "5代表带参数层：3个全连接层+2个卷积层（池化严格来说不算层）\n",
    "\n",
    "<img src=\"../graph/11.png\" width=\"500\" height=\"250\" />\n",
    "\n",
    "神经网络中不是一张张输入，而是一批次一批次输入，就是batch B\n",
    "通道就是channel C\n",
    "\n",
    "卷积核就是FW和FH\n",
    "输出就是OW和OH\n",
    "\n",
    "### 参数举例\n",
    "\n",
    "<img src=\"../graph/12.png\" width=\"500\" height=\"250\" />\n",
    "<img src=\"../graph/13.png\" width=\"500\" height=\"250\" />\n",
    " \n",
    "卷积操作为了使通道变多，池化操作为了让特征变小\n",
    "最后5*5*16 = 400,展平到120个神经元，全连接，最后10个神经元（因为要做数字识别）\n",
    "以上是一张图片，batch中有很多张图片\n",
    "\n",
    "### 总结\n",
    "\n",
    "1. CNN是一类使用卷积层的网络（可以不池化）\n",
    "2. CNN中，组合使用卷积层，非线性激活函数和全连接层\n",
    "3. 在传统的CNN中，卷积块编码得到的表征在输出之前需要由一个或者多个DNN进行处理\n",
    "\n",
    "\n",
    "\n"
   ]
  },
  {
   "cell_type": "code",
   "execution_count": null,
   "id": "eebc4c74",
   "metadata": {},
   "outputs": [],
   "source": []
  }
 ],
 "metadata": {
  "kernelspec": {
   "display_name": "pytorch",
   "language": "python",
   "name": "python3"
  },
  "language_info": {
   "name": "python",
   "version": "3.12.7"
  }
 },
 "nbformat": 4,
 "nbformat_minor": 5
}
