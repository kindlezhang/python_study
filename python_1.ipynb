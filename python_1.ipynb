{
 "cells": [
  {
   "cell_type": "markdown",
   "id": "11061067",
   "metadata": {},
   "source": [
    "# python explainer"
   ]
  },
  {
   "cell_type": "code",
   "execution_count": null,
   "id": "5120478c",
   "metadata": {},
   "outputs": [
    {
     "data": {
      "text/plain": [
       "-1"
      ]
     },
     "execution_count": 11,
     "metadata": {},
     "output_type": "execute_result"
    }
   ],
   "source": [
    "1+1\n",
    "1-2\n",
    "4*5\n",
    "7/5\n",
    "3**2"
   ]
  },
  {
   "cell_type": "code",
   "execution_count": null,
   "id": "3e72560f",
   "metadata": {},
   "outputs": [],
   "source": []
  }
 ],
 "metadata": {
  "kernelspec": {
   "display_name": "base",
   "language": "python",
   "name": "python3"
  },
  "language_info": {
   "codemirror_mode": {
    "name": "ipython",
    "version": 3
   },
   "file_extension": ".py",
   "mimetype": "text/x-python",
   "name": "python",
   "nbconvert_exporter": "python",
   "pygments_lexer": "ipython3",
   "version": "3.12.7"
  }
 },
 "nbformat": 4,
 "nbformat_minor": 5
}
